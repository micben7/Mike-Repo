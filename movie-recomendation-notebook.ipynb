{
 "cells": [
  {
   "cell_type": "code",
   "execution_count": 1,
   "id": "c17a59d7",
   "metadata": {
    "_cell_guid": "b1076dfc-b9ad-4769-8c92-a6c4dae69d19",
    "_uuid": "8f2839f25d086af736a60e9eeb907d3b93b6e0e5",
    "execution": {
     "iopub.execute_input": "2023-01-17T12:31:31.473520Z",
     "iopub.status.busy": "2023-01-17T12:31:31.472525Z",
     "iopub.status.idle": "2023-01-17T12:31:32.599426Z",
     "shell.execute_reply": "2023-01-17T12:31:32.598015Z"
    },
    "papermill": {
     "duration": 1.138361,
     "end_time": "2023-01-17T12:31:32.602193",
     "exception": false,
     "start_time": "2023-01-17T12:31:31.463832",
     "status": "completed"
    },
    "tags": []
   },
   "outputs": [
    {
     "name": "stdout",
     "output_type": "stream",
     "text": [
      "/kaggle/input/edsa-movie-recommendation-predict/sample_submission.csv\n",
      "/kaggle/input/edsa-movie-recommendation-predict/movies.csv\n",
      "/kaggle/input/edsa-movie-recommendation-predict/imdb_data.csv\n",
      "/kaggle/input/edsa-movie-recommendation-predict/genome_tags.csv\n",
      "/kaggle/input/edsa-movie-recommendation-predict/genome_scores.csv\n",
      "/kaggle/input/edsa-movie-recommendation-predict/train.csv\n",
      "/kaggle/input/edsa-movie-recommendation-predict/test.csv\n",
      "/kaggle/input/edsa-movie-recommendation-predict/tags.csv\n",
      "/kaggle/input/edsa-movie-recommendation-predict/links.csv\n"
     ]
    }
   ],
   "source": [
    "# This Python 3 environment comes with many helpful analytics libraries installed\n",
    "# It is defined by the kaggle/python Docker image: https://github.com/kaggle/docker-python\n",
    "# For example, here's several helpful packages to load\n",
    "\n",
    "import numpy as np # linear algebra\n",
    "import pandas as pd # data processing, CSV file I/O (e.g. pd.read_csv)\n",
    "import seaborn as sns\n",
    "import matplotlib.pyplot as plt\n",
    "# Input data files are available in the read-only \"../input/\" directory\n",
    "# For example, running this (by clicking run or pressing Shift+Enter) will list all files under the input directory\n",
    "\n",
    "import os\n",
    "for dirname, _, filenames in os.walk('/kaggle/input'):\n",
    "    for filename in filenames:\n",
    "        print(os.path.join(dirname, filename))\n",
    "\n",
    "# You can write up to 20GB to the current directory (/kaggle/working/) that gets preserved as output when you create a version using \"Save & Run All\" \n",
    "# You can also write temporary files to /kaggle/temp/, but they won't be saved outside of the current session"
   ]
  },
  {
   "cell_type": "markdown",
   "id": "fa5c7828",
   "metadata": {
    "papermill": {
     "duration": 0.005594,
     "end_time": "2023-01-17T12:31:32.613781",
     "exception": false,
     "start_time": "2023-01-17T12:31:32.608187",
     "status": "completed"
    },
    "tags": []
   },
   "source": [
    "**2. Loading the Data**"
   ]
  },
  {
   "cell_type": "code",
   "execution_count": 2,
   "id": "4a8117b7",
   "metadata": {
    "execution": {
     "iopub.execute_input": "2023-01-17T12:31:32.626600Z",
     "iopub.status.busy": "2023-01-17T12:31:32.626193Z",
     "iopub.status.idle": "2023-01-17T12:31:42.390519Z",
     "shell.execute_reply": "2023-01-17T12:31:42.389180Z"
    },
    "papermill": {
     "duration": 9.774062,
     "end_time": "2023-01-17T12:31:42.393308",
     "exception": false,
     "start_time": "2023-01-17T12:31:32.619246",
     "status": "completed"
    },
    "tags": []
   },
   "outputs": [],
   "source": [
    "# load the data\n",
    "df_train = pd.read_csv('/kaggle/input/edsa-movie-recommendation-predict/train.csv')\n",
    "df_test = pd.read_csv('/kaggle/input/edsa-movie-recommendation-predict/test.csv')\n"
   ]
  },
  {
   "cell_type": "markdown",
   "id": "0b49ec67",
   "metadata": {
    "papermill": {
     "duration": 0.005051,
     "end_time": "2023-01-17T12:31:42.404212",
     "exception": false,
     "start_time": "2023-01-17T12:31:42.399161",
     "status": "completed"
    },
    "tags": []
   },
   "source": [
    "**3. Exploratory Data Analysis (EDA)** "
   ]
  },
  {
   "cell_type": "code",
   "execution_count": 3,
   "id": "8b927315",
   "metadata": {
    "execution": {
     "iopub.execute_input": "2023-01-17T12:31:42.417302Z",
     "iopub.status.busy": "2023-01-17T12:31:42.416873Z",
     "iopub.status.idle": "2023-01-17T12:31:42.437435Z",
     "shell.execute_reply": "2023-01-17T12:31:42.435928Z"
    },
    "papermill": {
     "duration": 0.030608,
     "end_time": "2023-01-17T12:31:42.440259",
     "exception": false,
     "start_time": "2023-01-17T12:31:42.409651",
     "status": "completed"
    },
    "tags": []
   },
   "outputs": [
    {
     "data": {
      "text/html": [
       "<div>\n",
       "<style scoped>\n",
       "    .dataframe tbody tr th:only-of-type {\n",
       "        vertical-align: middle;\n",
       "    }\n",
       "\n",
       "    .dataframe tbody tr th {\n",
       "        vertical-align: top;\n",
       "    }\n",
       "\n",
       "    .dataframe thead th {\n",
       "        text-align: right;\n",
       "    }\n",
       "</style>\n",
       "<table border=\"1\" class=\"dataframe\">\n",
       "  <thead>\n",
       "    <tr style=\"text-align: right;\">\n",
       "      <th></th>\n",
       "      <th>userId</th>\n",
       "      <th>movieId</th>\n",
       "      <th>rating</th>\n",
       "      <th>timestamp</th>\n",
       "    </tr>\n",
       "  </thead>\n",
       "  <tbody>\n",
       "    <tr>\n",
       "      <th>0</th>\n",
       "      <td>5163</td>\n",
       "      <td>57669</td>\n",
       "      <td>4.0</td>\n",
       "      <td>1518349992</td>\n",
       "    </tr>\n",
       "    <tr>\n",
       "      <th>1</th>\n",
       "      <td>106343</td>\n",
       "      <td>5</td>\n",
       "      <td>4.5</td>\n",
       "      <td>1206238739</td>\n",
       "    </tr>\n",
       "    <tr>\n",
       "      <th>2</th>\n",
       "      <td>146790</td>\n",
       "      <td>5459</td>\n",
       "      <td>5.0</td>\n",
       "      <td>1076215539</td>\n",
       "    </tr>\n",
       "    <tr>\n",
       "      <th>3</th>\n",
       "      <td>106362</td>\n",
       "      <td>32296</td>\n",
       "      <td>2.0</td>\n",
       "      <td>1423042565</td>\n",
       "    </tr>\n",
       "    <tr>\n",
       "      <th>4</th>\n",
       "      <td>9041</td>\n",
       "      <td>366</td>\n",
       "      <td>3.0</td>\n",
       "      <td>833375837</td>\n",
       "    </tr>\n",
       "  </tbody>\n",
       "</table>\n",
       "</div>"
      ],
      "text/plain": [
       "   userId  movieId  rating   timestamp\n",
       "0    5163    57669     4.0  1518349992\n",
       "1  106343        5     4.5  1206238739\n",
       "2  146790     5459     5.0  1076215539\n",
       "3  106362    32296     2.0  1423042565\n",
       "4    9041      366     3.0   833375837"
      ]
     },
     "execution_count": 3,
     "metadata": {},
     "output_type": "execute_result"
    }
   ],
   "source": [
    "#Exploring the dataset\n",
    "df_train.head()"
   ]
  },
  {
   "cell_type": "code",
   "execution_count": 4,
   "id": "18ec8191",
   "metadata": {
    "execution": {
     "iopub.execute_input": "2023-01-17T12:31:42.453929Z",
     "iopub.status.busy": "2023-01-17T12:31:42.453542Z",
     "iopub.status.idle": "2023-01-17T12:31:42.463739Z",
     "shell.execute_reply": "2023-01-17T12:31:42.462597Z"
    },
    "papermill": {
     "duration": 0.01959,
     "end_time": "2023-01-17T12:31:42.465916",
     "exception": false,
     "start_time": "2023-01-17T12:31:42.446326",
     "status": "completed"
    },
    "tags": []
   },
   "outputs": [
    {
     "data": {
      "text/html": [
       "<div>\n",
       "<style scoped>\n",
       "    .dataframe tbody tr th:only-of-type {\n",
       "        vertical-align: middle;\n",
       "    }\n",
       "\n",
       "    .dataframe tbody tr th {\n",
       "        vertical-align: top;\n",
       "    }\n",
       "\n",
       "    .dataframe thead th {\n",
       "        text-align: right;\n",
       "    }\n",
       "</style>\n",
       "<table border=\"1\" class=\"dataframe\">\n",
       "  <thead>\n",
       "    <tr style=\"text-align: right;\">\n",
       "      <th></th>\n",
       "      <th>userId</th>\n",
       "      <th>movieId</th>\n",
       "    </tr>\n",
       "  </thead>\n",
       "  <tbody>\n",
       "    <tr>\n",
       "      <th>0</th>\n",
       "      <td>1</td>\n",
       "      <td>2011</td>\n",
       "    </tr>\n",
       "    <tr>\n",
       "      <th>1</th>\n",
       "      <td>1</td>\n",
       "      <td>4144</td>\n",
       "    </tr>\n",
       "    <tr>\n",
       "      <th>2</th>\n",
       "      <td>1</td>\n",
       "      <td>5767</td>\n",
       "    </tr>\n",
       "    <tr>\n",
       "      <th>3</th>\n",
       "      <td>1</td>\n",
       "      <td>6711</td>\n",
       "    </tr>\n",
       "    <tr>\n",
       "      <th>4</th>\n",
       "      <td>1</td>\n",
       "      <td>7318</td>\n",
       "    </tr>\n",
       "  </tbody>\n",
       "</table>\n",
       "</div>"
      ],
      "text/plain": [
       "   userId  movieId\n",
       "0       1     2011\n",
       "1       1     4144\n",
       "2       1     5767\n",
       "3       1     6711\n",
       "4       1     7318"
      ]
     },
     "execution_count": 4,
     "metadata": {},
     "output_type": "execute_result"
    }
   ],
   "source": [
    "df_test.head()"
   ]
  },
  {
   "cell_type": "code",
   "execution_count": 5,
   "id": "8c120e33",
   "metadata": {
    "execution": {
     "iopub.execute_input": "2023-01-17T12:31:42.479843Z",
     "iopub.status.busy": "2023-01-17T12:31:42.478816Z",
     "iopub.status.idle": "2023-01-17T12:31:42.485982Z",
     "shell.execute_reply": "2023-01-17T12:31:42.484891Z"
    },
    "papermill": {
     "duration": 0.0165,
     "end_time": "2023-01-17T12:31:42.488403",
     "exception": false,
     "start_time": "2023-01-17T12:31:42.471903",
     "status": "completed"
    },
    "tags": []
   },
   "outputs": [
    {
     "data": {
      "text/plain": [
       "(10000038, 4)"
      ]
     },
     "execution_count": 5,
     "metadata": {},
     "output_type": "execute_result"
    }
   ],
   "source": [
    "df_train.shape"
   ]
  },
  {
   "cell_type": "code",
   "execution_count": 6,
   "id": "b365545b",
   "metadata": {
    "execution": {
     "iopub.execute_input": "2023-01-17T12:31:42.503025Z",
     "iopub.status.busy": "2023-01-17T12:31:42.502644Z",
     "iopub.status.idle": "2023-01-17T12:31:42.509254Z",
     "shell.execute_reply": "2023-01-17T12:31:42.508224Z"
    },
    "papermill": {
     "duration": 0.017342,
     "end_time": "2023-01-17T12:31:42.511501",
     "exception": false,
     "start_time": "2023-01-17T12:31:42.494159",
     "status": "completed"
    },
    "tags": []
   },
   "outputs": [
    {
     "data": {
      "text/plain": [
       "(5000019, 2)"
      ]
     },
     "execution_count": 6,
     "metadata": {},
     "output_type": "execute_result"
    }
   ],
   "source": [
    "df_test.shape"
   ]
  },
  {
   "cell_type": "code",
   "execution_count": 7,
   "id": "6d32919c",
   "metadata": {
    "execution": {
     "iopub.execute_input": "2023-01-17T12:31:42.524606Z",
     "iopub.status.busy": "2023-01-17T12:31:42.524265Z",
     "iopub.status.idle": "2023-01-17T12:31:42.549634Z",
     "shell.execute_reply": "2023-01-17T12:31:42.548300Z"
    },
    "papermill": {
     "duration": 0.034776,
     "end_time": "2023-01-17T12:31:42.552040",
     "exception": false,
     "start_time": "2023-01-17T12:31:42.517264",
     "status": "completed"
    },
    "tags": []
   },
   "outputs": [
    {
     "name": "stdout",
     "output_type": "stream",
     "text": [
      "<class 'pandas.core.frame.DataFrame'>\n",
      "RangeIndex: 10000038 entries, 0 to 10000037\n",
      "Data columns (total 4 columns):\n",
      " #   Column     Dtype  \n",
      "---  ------     -----  \n",
      " 0   userId     int64  \n",
      " 1   movieId    int64  \n",
      " 2   rating     float64\n",
      " 3   timestamp  int64  \n",
      "dtypes: float64(1), int64(3)\n",
      "memory usage: 305.2 MB\n"
     ]
    }
   ],
   "source": [
    "df_train.info()"
   ]
  },
  {
   "cell_type": "code",
   "execution_count": 8,
   "id": "31c3b61e",
   "metadata": {
    "execution": {
     "iopub.execute_input": "2023-01-17T12:31:42.566085Z",
     "iopub.status.busy": "2023-01-17T12:31:42.565584Z",
     "iopub.status.idle": "2023-01-17T12:31:42.576649Z",
     "shell.execute_reply": "2023-01-17T12:31:42.575003Z"
    },
    "papermill": {
     "duration": 0.020898,
     "end_time": "2023-01-17T12:31:42.579175",
     "exception": false,
     "start_time": "2023-01-17T12:31:42.558277",
     "status": "completed"
    },
    "tags": []
   },
   "outputs": [
    {
     "name": "stdout",
     "output_type": "stream",
     "text": [
      "<class 'pandas.core.frame.DataFrame'>\n",
      "RangeIndex: 5000019 entries, 0 to 5000018\n",
      "Data columns (total 2 columns):\n",
      " #   Column   Dtype\n",
      "---  ------   -----\n",
      " 0   userId   int64\n",
      " 1   movieId  int64\n",
      "dtypes: int64(2)\n",
      "memory usage: 76.3 MB\n"
     ]
    }
   ],
   "source": [
    "df_test.info()"
   ]
  },
  {
   "cell_type": "markdown",
   "id": "37f9adec",
   "metadata": {
    "papermill": {
     "duration": 0.005724,
     "end_time": "2023-01-17T12:31:42.590860",
     "exception": false,
     "start_time": "2023-01-17T12:31:42.585136",
     "status": "completed"
    },
    "tags": []
   },
   "source": [
    "**Missing Values**"
   ]
  },
  {
   "cell_type": "code",
   "execution_count": 9,
   "id": "2d5889e6",
   "metadata": {
    "execution": {
     "iopub.execute_input": "2023-01-17T12:31:42.604452Z",
     "iopub.status.busy": "2023-01-17T12:31:42.604056Z",
     "iopub.status.idle": "2023-01-17T12:31:42.676293Z",
     "shell.execute_reply": "2023-01-17T12:31:42.675298Z"
    },
    "papermill": {
     "duration": 0.081854,
     "end_time": "2023-01-17T12:31:42.678512",
     "exception": false,
     "start_time": "2023-01-17T12:31:42.596658",
     "status": "completed"
    },
    "tags": []
   },
   "outputs": [
    {
     "data": {
      "text/plain": [
       "userId       0\n",
       "movieId      0\n",
       "rating       0\n",
       "timestamp    0\n",
       "dtype: int64"
      ]
     },
     "execution_count": 9,
     "metadata": {},
     "output_type": "execute_result"
    }
   ],
   "source": [
    "#Sum of missing values in the train Dataset\n",
    "df_train.isnull().sum()"
   ]
  },
  {
   "cell_type": "markdown",
   "id": "f620f922",
   "metadata": {
    "papermill": {
     "duration": 0.006094,
     "end_time": "2023-01-17T12:31:42.690674",
     "exception": false,
     "start_time": "2023-01-17T12:31:42.684580",
     "status": "completed"
    },
    "tags": []
   },
   "source": [
    "Hurray! There is no missing value in our data.\n",
    "\n",
    "We can explore futher our data using using the univariate and multivariate approach."
   ]
  },
  {
   "cell_type": "code",
   "execution_count": 10,
   "id": "55f59dad",
   "metadata": {
    "execution": {
     "iopub.execute_input": "2023-01-17T12:31:42.705273Z",
     "iopub.status.busy": "2023-01-17T12:31:42.704643Z",
     "iopub.status.idle": "2023-01-17T12:31:42.728868Z",
     "shell.execute_reply": "2023-01-17T12:31:42.727707Z"
    },
    "papermill": {
     "duration": 0.034379,
     "end_time": "2023-01-17T12:31:42.731290",
     "exception": false,
     "start_time": "2023-01-17T12:31:42.696911",
     "status": "completed"
    },
    "tags": []
   },
   "outputs": [
    {
     "data": {
      "text/plain": [
       "userId     0\n",
       "movieId    0\n",
       "dtype: int64"
      ]
     },
     "execution_count": 10,
     "metadata": {},
     "output_type": "execute_result"
    }
   ],
   "source": [
    "#Sum of missing values in the train Dataset\n",
    "df_test.isnull().sum()"
   ]
  },
  {
   "cell_type": "markdown",
   "id": "8379af04",
   "metadata": {
    "papermill": {
     "duration": 0.005966,
     "end_time": "2023-01-17T12:31:42.743641",
     "exception": false,
     "start_time": "2023-01-17T12:31:42.737675",
     "status": "completed"
    },
    "tags": []
   },
   "source": [
    "# "
   ]
  },
  {
   "cell_type": "markdown",
   "id": "938bd7c8",
   "metadata": {
    "papermill": {
     "duration": 0.006158,
     "end_time": "2023-01-17T12:31:42.756095",
     "exception": false,
     "start_time": "2023-01-17T12:31:42.749937",
     "status": "completed"
    },
    "tags": []
   },
   "source": [
    "**Univariate Analysis (Non-graphical)**"
   ]
  },
  {
   "cell_type": "code",
   "execution_count": 11,
   "id": "97597b6b",
   "metadata": {
    "execution": {
     "iopub.execute_input": "2023-01-17T12:31:42.770155Z",
     "iopub.status.busy": "2023-01-17T12:31:42.769727Z",
     "iopub.status.idle": "2023-01-17T12:31:44.530464Z",
     "shell.execute_reply": "2023-01-17T12:31:44.529314Z"
    },
    "papermill": {
     "duration": 1.770447,
     "end_time": "2023-01-17T12:31:44.532668",
     "exception": false,
     "start_time": "2023-01-17T12:31:42.762221",
     "status": "completed"
    },
    "tags": []
   },
   "outputs": [
    {
     "data": {
      "text/html": [
       "<div>\n",
       "<style scoped>\n",
       "    .dataframe tbody tr th:only-of-type {\n",
       "        vertical-align: middle;\n",
       "    }\n",
       "\n",
       "    .dataframe tbody tr th {\n",
       "        vertical-align: top;\n",
       "    }\n",
       "\n",
       "    .dataframe thead th {\n",
       "        text-align: right;\n",
       "    }\n",
       "</style>\n",
       "<table border=\"1\" class=\"dataframe\">\n",
       "  <thead>\n",
       "    <tr style=\"text-align: right;\">\n",
       "      <th></th>\n",
       "      <th>userId</th>\n",
       "      <th>movieId</th>\n",
       "      <th>rating</th>\n",
       "      <th>timestamp</th>\n",
       "    </tr>\n",
       "  </thead>\n",
       "  <tbody>\n",
       "    <tr>\n",
       "      <th>count</th>\n",
       "      <td>1.000004e+07</td>\n",
       "      <td>1.000004e+07</td>\n",
       "      <td>1.000004e+07</td>\n",
       "      <td>1.000004e+07</td>\n",
       "    </tr>\n",
       "    <tr>\n",
       "      <th>mean</th>\n",
       "      <td>8.119909e+04</td>\n",
       "      <td>2.138911e+04</td>\n",
       "      <td>3.533395e+00</td>\n",
       "      <td>1.215677e+09</td>\n",
       "    </tr>\n",
       "    <tr>\n",
       "      <th>std</th>\n",
       "      <td>4.679359e+04</td>\n",
       "      <td>3.919578e+04</td>\n",
       "      <td>1.061124e+00</td>\n",
       "      <td>2.268921e+08</td>\n",
       "    </tr>\n",
       "    <tr>\n",
       "      <th>min</th>\n",
       "      <td>1.000000e+00</td>\n",
       "      <td>1.000000e+00</td>\n",
       "      <td>5.000000e-01</td>\n",
       "      <td>7.896520e+08</td>\n",
       "    </tr>\n",
       "    <tr>\n",
       "      <th>25%</th>\n",
       "      <td>4.051000e+04</td>\n",
       "      <td>1.197000e+03</td>\n",
       "      <td>3.000000e+00</td>\n",
       "      <td>1.011742e+09</td>\n",
       "    </tr>\n",
       "    <tr>\n",
       "      <th>50%</th>\n",
       "      <td>8.091400e+04</td>\n",
       "      <td>2.947000e+03</td>\n",
       "      <td>3.500000e+00</td>\n",
       "      <td>1.199019e+09</td>\n",
       "    </tr>\n",
       "    <tr>\n",
       "      <th>75%</th>\n",
       "      <td>1.215790e+05</td>\n",
       "      <td>8.630000e+03</td>\n",
       "      <td>4.000000e+00</td>\n",
       "      <td>1.447242e+09</td>\n",
       "    </tr>\n",
       "    <tr>\n",
       "      <th>max</th>\n",
       "      <td>1.625410e+05</td>\n",
       "      <td>2.091710e+05</td>\n",
       "      <td>5.000000e+00</td>\n",
       "      <td>1.574328e+09</td>\n",
       "    </tr>\n",
       "  </tbody>\n",
       "</table>\n",
       "</div>"
      ],
      "text/plain": [
       "             userId       movieId        rating     timestamp\n",
       "count  1.000004e+07  1.000004e+07  1.000004e+07  1.000004e+07\n",
       "mean   8.119909e+04  2.138911e+04  3.533395e+00  1.215677e+09\n",
       "std    4.679359e+04  3.919578e+04  1.061124e+00  2.268921e+08\n",
       "min    1.000000e+00  1.000000e+00  5.000000e-01  7.896520e+08\n",
       "25%    4.051000e+04  1.197000e+03  3.000000e+00  1.011742e+09\n",
       "50%    8.091400e+04  2.947000e+03  3.500000e+00  1.199019e+09\n",
       "75%    1.215790e+05  8.630000e+03  4.000000e+00  1.447242e+09\n",
       "max    1.625410e+05  2.091710e+05  5.000000e+00  1.574328e+09"
      ]
     },
     "execution_count": 11,
     "metadata": {},
     "output_type": "execute_result"
    }
   ],
   "source": [
    "# look at descriptive data statistics\n",
    "df_train.describe()"
   ]
  },
  {
   "cell_type": "markdown",
   "id": "8d7eb722",
   "metadata": {
    "papermill": {
     "duration": 0.006182,
     "end_time": "2023-01-17T12:31:44.545373",
     "exception": false,
     "start_time": "2023-01-17T12:31:44.539191",
     "status": "completed"
    },
    "tags": []
   },
   "source": [
    "**Checking for Outliers**"
   ]
  },
  {
   "cell_type": "code",
   "execution_count": 12,
   "id": "f72cd170",
   "metadata": {
    "execution": {
     "iopub.execute_input": "2023-01-17T12:31:44.560143Z",
     "iopub.status.busy": "2023-01-17T12:31:44.559499Z",
     "iopub.status.idle": "2023-01-17T12:31:45.138255Z",
     "shell.execute_reply": "2023-01-17T12:31:45.136214Z"
    },
    "papermill": {
     "duration": 0.589921,
     "end_time": "2023-01-17T12:31:45.141627",
     "exception": false,
     "start_time": "2023-01-17T12:31:44.551706",
     "status": "completed"
    },
    "tags": []
   },
   "outputs": [
    {
     "data": {
      "text/plain": [
       "userId      -1.197634\n",
       "movieId      4.351014\n",
       "rating       0.221102\n",
       "timestamp   -1.316891\n",
       "dtype: float64"
      ]
     },
     "execution_count": 12,
     "metadata": {},
     "output_type": "execute_result"
    }
   ],
   "source": [
    "#checking for outliers\n",
    "df_train.kurtosis()"
   ]
  },
  {
   "cell_type": "code",
   "execution_count": 13,
   "id": "ebbebc35",
   "metadata": {
    "execution": {
     "iopub.execute_input": "2023-01-17T12:31:45.157475Z",
     "iopub.status.busy": "2023-01-17T12:31:45.157093Z",
     "iopub.status.idle": "2023-01-17T12:31:58.103688Z",
     "shell.execute_reply": "2023-01-17T12:31:58.102674Z"
    },
    "papermill": {
     "duration": 12.956859,
     "end_time": "2023-01-17T12:31:58.105971",
     "exception": false,
     "start_time": "2023-01-17T12:31:45.149112",
     "status": "completed"
    },
    "tags": []
   },
   "outputs": [
    {
     "data": {
      "image/png": "[encoded data removed]",
      "text/plain": [
       "<Figure size 1224x72 with 1 Axes>"
      ]
     },
     "metadata": {
      "needs_background": "light"
     },
     "output_type": "display_data"
    },
    {
     "data": {
      "image/png": "[encoded data removed]",
      "text/plain": [
       "<Figure size 1224x72 with 1 Axes>"
      ]
     },
     "metadata": {
      "needs_background": "light"
     },
     "output_type": "display_data"
    },
    {
     "data": {
      "image/png": "[encoded data removed]",
      "text/plain": [
       "<Figure size 1224x72 with 1 Axes>"
      ]
     },
     "metadata": {
      "needs_background": "light"
     },
     "output_type": "display_data"
    },
    {
     "data": {
      "image/png": "[encoded data removed]",
      "text/plain": [
       "<Figure size 1224x72 with 1 Axes>"
      ]
     },
     "metadata": {
      "needs_background": "light"
     },
     "output_type": "display_data"
    }
   ],
   "source": [
    "plt.rcParams.update({'figure.max_open_warning': 0})\n",
    "for column in df_train:\n",
    "        plt.figure(figsize=(17,1))\n",
    "        sns.boxplot(data=df_train, x=column)"
   ]
  },
  {
   "cell_type": "markdown",
   "id": "3c8f9408",
   "metadata": {
    "papermill": {
     "duration": 0.007406,
     "end_time": "2023-01-17T12:31:58.120825",
     "exception": false,
     "start_time": "2023-01-17T12:31:58.113419",
     "status": "completed"
    },
    "tags": []
   },
   "source": [
    "**Checking for Skewness**"
   ]
  },
  {
   "cell_type": "code",
   "execution_count": 14,
   "id": "9dc03f2f",
   "metadata": {
    "execution": {
     "iopub.execute_input": "2023-01-17T12:31:58.138057Z",
     "iopub.status.busy": "2023-01-17T12:31:58.137195Z",
     "iopub.status.idle": "2023-01-17T12:31:58.721393Z",
     "shell.execute_reply": "2023-01-17T12:31:58.720311Z"
    },
    "papermill": {
     "duration": 0.595391,
     "end_time": "2023-01-17T12:31:58.723814",
     "exception": false,
     "start_time": "2023-01-17T12:31:58.128423",
     "status": "completed"
    },
    "tags": []
   },
   "outputs": [
    {
     "data": {
      "text/plain": [
       "userId       0.007477\n",
       "movieId      2.200436\n",
       "rating      -0.703118\n",
       "timestamp   -0.017331\n",
       "dtype: float64"
      ]
     },
     "execution_count": 14,
     "metadata": {},
     "output_type": "execute_result"
    }
   ],
   "source": [
    "#checking for skewness\n",
    "df_train.skew()"
   ]
  },
  {
   "cell_type": "code",
   "execution_count": 15,
   "id": "9ba70aa8",
   "metadata": {
    "execution": {
     "iopub.execute_input": "2023-01-17T12:31:58.740441Z",
     "iopub.status.busy": "2023-01-17T12:31:58.739690Z",
     "iopub.status.idle": "2023-01-17T12:32:01.469854Z",
     "shell.execute_reply": "2023-01-17T12:32:01.468682Z"
    },
    "papermill": {
     "duration": 2.740942,
     "end_time": "2023-01-17T12:32:01.472278",
     "exception": false,
     "start_time": "2023-01-17T12:31:58.731336",
     "status": "completed"
    },
    "tags": []
   },
   "outputs": [
    {
     "data": {
      "image/png": "[encoded data removed]",
      "text/plain": [
       "<Figure size 3600x2160 with 4 Axes>"
      ]
     },
     "metadata": {
      "needs_background": "light"
     },
     "output_type": "display_data"
    }
   ],
   "source": [
    "# plot feature distributions\n",
    "fig = df_train.hist(figsize=(50, 30));\n",
    "[x.title.set_size(32) for x in fig.ravel()];"
   ]
  }
 ],
 "metadata": {
  "kernelspec": {
   "display_name": "Python 3",
   "language": "python",
   "name": "python3"
  },
  "language_info": {
   "codemirror_mode": {
    "name": "ipython",
    "version": 3
   },
   "file_extension": ".py",
   "mimetype": "text/x-python",
   "name": "python",
   "nbconvert_exporter": "python",
   "pygments_lexer": "ipython3",
   "version": "3.7.12"
  },
  "papermill": {
   "default_parameters": {},
   "duration": 39.259392,
   "end_time": "2023-01-17T12:32:02.202884",
   "environment_variables": {},
   "exception": null,
   "input_path": "__notebook__.ipynb",
   "output_path": "__notebook__.ipynb",
   "parameters": {},
   "start_time": "2023-01-17T12:31:22.943492",
   "version": "2.3.4"
  }
 },
 "nbformat": 4,
 "nbformat_minor": 5
}
